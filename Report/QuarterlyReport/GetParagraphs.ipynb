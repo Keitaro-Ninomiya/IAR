{
 "cells": [
  {
   "cell_type": "code",
   "execution_count": 1,
   "metadata": {},
   "outputs": [],
   "source": [
    "import os\n",
    "\n",
    "# Get the current user's username\n",
    "username = os.getlogin()\n",
    "origin=rf'C:\\\\Users\\\\{username}\\\\'"
   ]
  },
  {
   "cell_type": "markdown",
   "metadata": {},
   "source": [
    "Quarterly Report\n",
    "- Move supply and PriceStrataTable table to IAR_nino.\n",
    "- Automate running the paragraph creating codes."
   ]
  },
  {
   "cell_type": "code",
   "execution_count": 10,
   "metadata": {},
   "outputs": [],
   "source": [
    "Month = 3\n",
    "Year = 2024\n",
    "Quarter = 1"
   ]
  },
  {
   "cell_type": "code",
   "execution_count": 4,
   "metadata": {},
   "outputs": [
    {
     "name": "stdout",
     "output_type": "stream",
     "text": [
      "Copied Active2008.csv to C:\\Users\\Keitaro Ninomiya\\Box\\REAL\\IAR\\Working Folder\\active\n",
      "Copied Active2009.csv to C:\\Users\\Keitaro Ninomiya\\Box\\REAL\\IAR\\Working Folder\\active\n",
      "Copied Active2010.csv to C:\\Users\\Keitaro Ninomiya\\Box\\REAL\\IAR\\Working Folder\\active\n",
      "Copied Active2011.csv to C:\\Users\\Keitaro Ninomiya\\Box\\REAL\\IAR\\Working Folder\\active\n",
      "Copied Active2012.csv to C:\\Users\\Keitaro Ninomiya\\Box\\REAL\\IAR\\Working Folder\\active\n",
      "Copied Active2013.csv to C:\\Users\\Keitaro Ninomiya\\Box\\REAL\\IAR\\Working Folder\\active\n",
      "Copied Active2014.csv to C:\\Users\\Keitaro Ninomiya\\Box\\REAL\\IAR\\Working Folder\\active\n",
      "Copied Active2015.csv to C:\\Users\\Keitaro Ninomiya\\Box\\REAL\\IAR\\Working Folder\\active\n",
      "Copied Active2016.csv to C:\\Users\\Keitaro Ninomiya\\Box\\REAL\\IAR\\Working Folder\\active\n",
      "Copied Active2017.csv to C:\\Users\\Keitaro Ninomiya\\Box\\REAL\\IAR\\Working Folder\\active\n",
      "Copied Active2018.csv to C:\\Users\\Keitaro Ninomiya\\Box\\REAL\\IAR\\Working Folder\\active\n",
      "Copied Active2019.csv to C:\\Users\\Keitaro Ninomiya\\Box\\REAL\\IAR\\Working Folder\\active\n",
      "Copied Active2020.csv to C:\\Users\\Keitaro Ninomiya\\Box\\REAL\\IAR\\Working Folder\\active\n",
      "Copied Active2021.csv to C:\\Users\\Keitaro Ninomiya\\Box\\REAL\\IAR\\Working Folder\\active\n",
      "Copied Active2021_summary.dta to C:\\Users\\Keitaro Ninomiya\\Box\\REAL\\IAR\\Working Folder\\active\n",
      "Copied Active2022.csv to C:\\Users\\Keitaro Ninomiya\\Box\\REAL\\IAR\\Working Folder\\active\n",
      "Copied Active2023.csv to C:\\Users\\Keitaro Ninomiya\\Box\\REAL\\IAR\\Working Folder\\active\n",
      "Copied Active2024.csv to C:\\Users\\Keitaro Ninomiya\\Box\\REAL\\IAR\\Working Folder\\active\n"
     ]
    }
   ],
   "source": [
    "import os\n",
    "import shutil\n",
    "\n",
    "# Define the source and destination directories\n",
    "source_dir = r\"C:\\Users\\Keitaro Ninomiya\\Box\\IAR_nino\\Working Folder\\active\"\n",
    "destination_dir = r\"C:\\Users\\Keitaro Ninomiya\\Box\\REAL\\IAR\\Working Folder\\active\"\n",
    "\n",
    "# Check if the destination directory exists, create if it doesn't\n",
    "if not os.path.exists(destination_dir):\n",
    "    os.makedirs(destination_dir)\n",
    "\n",
    "# Loop through the files in the source directory\n",
    "for filename in os.listdir(source_dir):\n",
    "    if filename.startswith(\"Active\"):\n",
    "        # Construct the full file path\n",
    "        full_file_path = os.path.join(source_dir, filename)\n",
    "        # Copy the file to the destination directory\n",
    "        shutil.copy(full_file_path, destination_dir)\n",
    "        print(f\"Copied {filename} to {destination_dir}\")\n"
   ]
  },
  {
   "cell_type": "code",
   "execution_count": 5,
   "metadata": {},
   "outputs": [
    {
     "name": "stdout",
     "output_type": "stream",
     "text": [
      "Copied Sold2024-1.csv to C:\\Users\\Keitaro Ninomiya\\Box\\REAL\\IAR\\Working Folder\\sales\n",
      "Copied Sold2024-2.csv to C:\\Users\\Keitaro Ninomiya\\Box\\REAL\\IAR\\Working Folder\\sales\n",
      "Copied Sold2024-3.csv to C:\\Users\\Keitaro Ninomiya\\Box\\REAL\\IAR\\Working Folder\\sales\n"
     ]
    }
   ],
   "source": [
    "import os\n",
    "import shutil\n",
    "\n",
    "# Define the source and destination directories\n",
    "source_dir = r\"C:\\Users\\Keitaro Ninomiya\\Box\\IAR_nino\\Working Folder\\sales\"\n",
    "destination_dir = r\"C:\\Users\\Keitaro Ninomiya\\Box\\REAL\\IAR\\Working Folder\\sales\"\n",
    "\n",
    "# Check if the destination directory exists, create if it doesn't\n",
    "if not os.path.exists(destination_dir):\n",
    "    os.makedirs(destination_dir)\n",
    "\n",
    "# Loop through the files in the source directory\n",
    "for filename in os.listdir(source_dir):\n",
    "    if (filename == f\"Sold{Year}-{Month-2}.csv\") or (filename == f\"Sold{Year}-{Month-1}.csv\") or (filename == f\"Sold{Year}-{Month}.csv\"):\n",
    "        # Construct the full file path\n",
    "        full_file_path = os.path.join(source_dir, filename)\n",
    "        # Copy the file to the destination directory\n",
    "        shutil.copy(full_file_path, destination_dir)\n",
    "        print(f\"Copied {filename} to {destination_dir}\")\n"
   ]
  },
  {
   "cell_type": "code",
   "execution_count": 6,
   "metadata": {},
   "outputs": [
    {
     "name": "stdout",
     "output_type": "stream",
     "text": [
      "Copied Pending2024-1.csv to C:\\Users\\Keitaro Ninomiya\\Box\\REAL\\IAR\\Working Folder\\pending\n",
      "Copied Pending2024-2.csv to C:\\Users\\Keitaro Ninomiya\\Box\\REAL\\IAR\\Working Folder\\pending\n",
      "Copied Pending2024-3.csv to C:\\Users\\Keitaro Ninomiya\\Box\\REAL\\IAR\\Working Folder\\pending\n"
     ]
    }
   ],
   "source": [
    "import os\n",
    "import shutil\n",
    "\n",
    "# Define the source and destination directories\n",
    "source_dir = r\"C:\\Users\\Keitaro Ninomiya\\Box\\IAR_nino\\Working Folder\\pending\"\n",
    "destination_dir = r\"C:\\Users\\Keitaro Ninomiya\\Box\\REAL\\IAR\\Working Folder\\pending\"\n",
    "\n",
    "# Check if the destination directory exists, create if it doesn't\n",
    "if not os.path.exists(destination_dir):\n",
    "    os.makedirs(destination_dir)\n",
    "\n",
    "# Loop through the files in the source directory\n",
    "for filename in os.listdir(source_dir):\n",
    "    if (filename == f\"Pending{Year}-{Month-2}.csv\") or (filename == f\"Pending{Year}-{Month-1}.csv\") or (filename == f\"Pending{Year}-{Month}.csv\"):\n",
    "        # Construct the full file path\n",
    "        full_file_path = os.path.join(source_dir, filename)\n",
    "        # Copy the file to the destination directory\n",
    "        shutil.copy(full_file_path, destination_dir)\n",
    "        print(f\"Copied {filename} to {destination_dir}\")\n"
   ]
  },
  {
   "cell_type": "code",
   "execution_count": 11,
   "metadata": {},
   "outputs": [
    {
     "name": "stdout",
     "output_type": "stream",
     "text": [
      "Copied housingsales2.dta to C:\\Users\\Keitaro Ninomiya\\Box\\REAL\\IAR\\Working Folder\\sales\n"
     ]
    }
   ],
   "source": [
    "source_dir = r\"C:\\Users\\Keitaro Ninomiya\\Box\\IAR_nino\\Working Folder\\sales\"\n",
    "destination_dir = r\"C:\\Users\\Keitaro Ninomiya\\Box\\REAL\\IAR\\Working Folder\\sales\"\n",
    "\n",
    "filename = \"housingsales2.dta\"\n",
    "full_file_path = os.path.join(source_dir, filename)\n",
    "\n",
    "shutil.copy(full_file_path, destination_dir)\n",
    "print(f\"Copied {filename} to {destination_dir}\")"
   ]
  },
  {
   "cell_type": "code",
   "execution_count": 9,
   "metadata": {},
   "outputs": [
    {
     "name": "stdout",
     "output_type": "stream",
     "text": [
      "Copied ppricerange1.dta to C:\\Users\\Keitaro Ninomiya\\Box\\REAL\\IAR\\Working Folder\\pending\n"
     ]
    }
   ],
   "source": [
    "source_dir = r\"C:\\Users\\Keitaro Ninomiya\\Box\\IAR_nino\\Working Folder\\pending\"\n",
    "destination_dir = r\"C:\\Users\\Keitaro Ninomiya\\Box\\REAL\\IAR\\Working Folder\\pending\"\n",
    "\n",
    "filename = \"ppricerange1.dta\"\n",
    "full_file_path = os.path.join(source_dir, filename)\n",
    "\n",
    "shutil.copy(full_file_path, destination_dir)\n",
    "print(f\"Copied {filename} to {destination_dir}\")"
   ]
  },
  {
   "cell_type": "code",
   "execution_count": 3,
   "metadata": {},
   "outputs": [],
   "source": [
    "import subprocess\n",
    "do_file_path = origin+'/Box/IAR_nino/Working Folder/CodeDrafts/onestation_qreport.do'\n",
    "# Write the modified content back to the .do file\n",
    "run_file_path = origin+'/Box/REAL/IAR/Working Folder/MSA/working files/onestation_q_Temp.do'\n",
    "\n",
    "# Your list of lines to add\n",
    "lines_to_add = [\n",
    "    'clear',\n",
    "    'clear matrix',\n",
    "    'set more off',\n",
    "    'set mat 800',\n",
    "    'set mem 1g',\n",
    "    'global month ' + str(Month),\n",
    "    'global year ' + str(Year),\n",
    "    'global quarter ' + str(Quarter)\n",
    "]\n",
    "\n",
    "# Read the original content of the .do file\n",
    "with open(do_file_path, 'r') as file:\n",
    "    original_content = file.readlines()\n",
    "\n",
    "# Insert the new lines at the beginning\n",
    "modified_content = '\\n'.join(lines_to_add) + '\\n' + ''.join(original_content)\n",
    "\n",
    "# Open the file in write mode, which clears the file\n",
    "with open(run_file_path, 'w') as file:\n",
    "    pass  # Doing nothing leaves the file empty\n",
    "# Write the modified content back to the file\n",
    "with open(run_file_path, 'w') as file:\n",
    "    file.write(modified_content)\n",
    "\n",
    "command = [\"C:\\\\Program Files\\\\Stata17\\\\StataBE-64\", \"do\", do_file_path]\n",
    "\n"
   ]
  },
  {
   "cell_type": "code",
   "execution_count": null,
   "metadata": {},
   "outputs": [],
   "source": [
    "#Get Statistics with R script\n",
    "import subprocess\n",
    "\n",
    "# Path to the original R script\n",
    "original_script_path = rf\"C:/Users/{username}/Box/IAR_nino/Data_Cleaning/RScripts/DataCleaning.R\"\n",
    "\n",
    "# Path where the updated script will be saved\n",
    "updated_script_path = rf\"C:/Users/{username}/Box/IAR_nino/Code.R\"\n",
    "\n",
    "# Read the original R script\n",
    "with open(original_script_path, 'r') as file:\n",
    "    original_content = file.read()\n",
    "\n",
    "# Prepare the lines to be added\n",
    "lines_to_add = f\"month_num = {Month}\\nyear_num = {Year}\\n\"\n",
    "\n",
    "# Combine the new lines with the original script content\n",
    "updated_content = lines_to_add + original_content\n",
    "\n",
    "# Write the updated content to a new file\n",
    "with open(updated_script_path, 'w') as file:\n",
    "    file.write(updated_content)\n",
    "\n"
   ]
  }
 ],
 "metadata": {
  "kernelspec": {
   "display_name": "Python 3",
   "language": "python",
   "name": "python3"
  },
  "language_info": {
   "codemirror_mode": {
    "name": "ipython",
    "version": 3
   },
   "file_extension": ".py",
   "mimetype": "text/x-python",
   "name": "python",
   "nbconvert_exporter": "python",
   "pygments_lexer": "ipython3",
   "version": "3.11.9"
  }
 },
 "nbformat": 4,
 "nbformat_minor": 2
}
