{
 "cells": [
  {
   "cell_type": "code",
   "execution_count": 2,
   "id": "8b89d962-aaef-4c8b-b2a5-f79ccf908112",
   "metadata": {},
   "outputs": [],
   "source": [
    "#Testing\n",
    "import os\n",
    "import pandas as pd\n",
    "\n",
    "PreMonth=\"December\"\n",
    "Month=\"January\"\n",
    "PostMonth=\"February\"\n",
    "PPstMonth=\"March\"\n",
    "PPPtMonth=\"April\"\n",
    "Year=\"2023\"\n",
    "PreYear=\"2022\""
   ]
  },
  {
   "cell_type": "code",
   "execution_count": 9,
   "id": "ee3700ac-2f0e-47fc-bd52-49ed722dddaf",
   "metadata": {},
   "outputs": [
    {
     "name": "stdout",
     "output_type": "stream",
     "text": [
      "In January, sales experienced a negative annual change, whereas median prices experienced a positive annual change in both Illinois and Chicago PMSA. 6723 houses were sold in Illinois, changing by -35.26% from a year ago and -30.63% from a month ago. In the Chicago PMSA, 4420 houses were sold, changing by -38.8% from a year ago and -31.29% from a month ago.The median price was $  in Illinois, up   from January last year; the comparable figure for the Chicago PMSA was $ , up % from January last year.\n",
      "In January, for the Chicago PMSA, the percentage of foreclosed sales (e.g. REOs) among the total sales was 7.000000000000001%. 4085 regular sales were made, -40.75% less than last year. 303 foreclosed properties were sold, 8.6% more than last year.The median price was $291462.5 for regular property sales, up 54.0% from last year; the comparable figure for the foreclosed properties was $234000, up 5.88% from last year. \n",
      "The sales forecast for February, March, and April suggests a decrease on a yearly and monthly basis for both Illinois and the Chicago PMSA. Annually for Illinois, the three-month average forecasts point to a decrease in the range of -14.000000000000002 to -19.0%; the comparative figures for the Chicago PMSA are a decrease in the range of -15.0% to -19.0%. On a monthly basis, the three-month average sales are forecast to decrease in the range of 22.0% to 30.0% for Illinois and decrease in the range of 26.0% to 35.0% for the Chicago PMSA.\n",
      "The pending home sales index  is a leading indicator based on contract signings.This October, the number of homes put under contract was less than last year in Illinois and Chicago PMSA. The pending home sales index is 72.37 (2019=100) in Illinois, down -23.84% from a year ago. In the Chicago PMSA, the comparable figure is 70.35 down -27.04% from a year ago. At the latest average annual pending sales rate, Illinois had enough housing inventory for 2.0 months (remaining the same as last year) . In the Chicago PMSA, the comparable figure was 2.0 months (remaining the same as last year). The lowest price ranges (<$100K) showed the largest decline both in Illinois, and in the Chicago PMSA.\n",
      "The median price forecast indicates positive annual growth for February, March, and April in both Illinois and the Chicago PMSA. In Illinois, the median price is forecast to change by -1.78% in February, -2.3% in March, and -1.91% in April. For the Chicago PMSA, the comparable figures are 0.21% in February, 0.29% in March, and -0.18% in April. As a complement to the median housing price index (HPI), the SHDRE HPI forecasts a positive growth trend for both Illinois and the Chicago PMSA.  In Illinois, the SHDRE HPI (Jan 2008=1) is forecast to change by -1.0% in February, -0.0% in March, and -0.0% in April. The comparable figures for the Chicago PMSA are 1.0% in February, 2.0% in March, and 3.0% in April. SHDRE HPI takes housing characteristics into account and constructs comparable “baskets” of homes for each month.\n",
      "In January, the Conference Board Consumer Confidence Index decreased, whereas the University of Michigan Consumer Sentiment Index increased. The Conference Board Consumer Confidence Index survey noted that inflation pressures will remain to be strong headwinds to consumer confidence and spending, which could result in a challenging holiday season for retailers. The University of Michigan Consumer Sentiment Index survey noted that continued declines in sentiment for higher-income consumers is worrisome given how much consumption spending they drive, and their dismal views are unlikely to abate given ongoing turbulence in financial markets.\n",
      "\n",
      "In January, sales experienced a   annual change, whereas median prices experienced a   annual change in both Illinois and Chicago PMSA. 6723 houses were sold in Illinois, changing by -35.26% from a year ago and -30.63% from a month ago. In the Chicago PMSA, 4420 houses were sold, changing by -38.8% from a year ago and -31.29% from a month ago.The median price was $  in Illinois, up   from January last year; the comparable figure for the Chicago PMSA was $ , up % from January last year.\n",
      "In January, for the Chicago PMSA, the percentage of foreclosed sales (e.g. REOs) among the total sales was 7.000000000000001%. 4085 regular sales were made, -40.75% less than last year. 303 foreclosed properties were sold, 8.6% more than last year.The median price was $291462.5 for regular property sales, up 53.8978958261469% from last year; the comparable figure for the foreclosed properties was $234000, up 5.88235294117647% from last year. (Reference: Ratio of Foreclosed Sales over Total Sales, Sales & Median Prices: Foreclosed vs. Regular Sales figures)\n",
      "In December, at the latest average annual pending sales rate, Illinois had enough housing inventory for 2 months (remaining the same as last year).  In the Chicago PMSA, the comparable figure was 1.5 months (remaining the same as last year). Months of supply for homes in the lowest price ranges (<100K) experienced declines both in Illinois and the Chicago PMSA. (Reference: Illinois and Chicago PMSA Annual Months’ Supply by Price Range figures) \n",
      "In December, the market shares of homes in the low price ranges ($100-200K) experienced the largest change compared to a year ago for both Illinois and the Chicago PMSA. In Illinois, the market share for homes at $100-200K decreased to 12.5% from 15.6% a year ago. In the Chicago PMSA, the market share for homes at $100-200K decreased to 18.0% from 19.9% a year ago. (Reference: Illinois and Chicago PMSA Price Stratification figures)  \n",
      "\n",
      "The median price forecast indicates positive annual growth for February, March, and April in both Illinois and the Chicago PMSA. In Illinois, the median price is forecast to change by -1.78% in February, -2.3% in March, and -1.91% in April. For the Chicago PMSA, the comparable figures are 0.21% in February, 0.29% in March, and -0.18% in April. (Reference: Forecast for November 2022 report table) \n",
      "As a complement to the median housing price index (HPI), the SHDRE HPI forecasts a positive growth trend for both Illinois and the Chicago PMSA.  In Illinois, the SHDRE HPI (Jan 2008=1) is forecast to change by -1.0% in February, -0.0% in March, and -0.0% in April. The comparable figures for the Chicago PMSA are 0.0% in February, 2.0% in March, and 2.0% in April. SHDRE HPI takes housing characteristics into account and constructs comparable “baskets” of homes for each month.(Reference: Housing Price Index)\n",
      "The sales forecast for February, March, and April suggests a decrease on a yearly and monthly basis for both Illinois and the Chicago PMSA. Annually for Illinois, the three-month average forecasts point to a decrease in the range of -14.000000000000002 to -19.0%; the comparative figures for the Chicago PMSA are a decrease in the range of -15.0% to -19.0%. On a monthly basis, the three-month average sales are forecast to decrease in the range of 22.0% to 30.0% for Illinois and decrease in the range of 26.0% to 35.0% for the Chicago PMSA.(Reference: Forecast for January 2022 report table)\n",
      "The pending home sales index  is a leading indicator based on contract signings.This October, the number of homes put under contract was less than last year in Illinois and Chicago PMSA. The pending home sales index is 72.37 (2019=100) in Illinois, down -2384.0% from a year ago. In the Chicago PMSA, the comparable figure is 70.35 down -27.04% from a year ago. \n",
      "In December 2022, 1204 houses were newly filed for foreclosure in the Chicago PMSA (up 83.0% and down 7.000000000000001%, respectively, from a year and a month ago). 721 foreclosures were completed (up 9.0% and up 67.0% respectively from a year and a month ago).  As of December 2022, there are 2 homes at some stage of foreclosure — the foreclosure inventory. The monthly average net flows of foreclosures (foreclosure inflows - outflows) were 6 in the past 6 months, 12 in the last 12 months, and 24in the previous 24 months. (Reference: Chicago PMSA Foreclosure Inflows and Outflows, and Inventory figures).\n",
      "\n"
     ]
    }
   ],
   "source": [
    "path='C:\\\\Users\\\\Keitaro Ninomiya\\\\Box\\\\IAR_nino\\\\Report'\n",
    "os.chdir(path)\n",
    "\n",
    "HM = open(\"Housing_Market\"+Month+Year+\".txt\", \"r\")\n",
    "print(HM.read())\n",
    "CC = open(\"Current_Condition\"+Month+Year+\".txt\", \"r\")\n",
    "print(CC.read())\n",
    "FC = open(\"Future_Condition\"+Month+Year+\".txt\", \"r\")\n",
    "print(FC.read())"
   ]
  },
  {
   "cell_type": "code",
   "execution_count": 2,
   "id": "e8c3b3d1-0c65-4a74-821e-30fa30e8145c",
   "metadata": {},
   "outputs": [],
   "source": [
    "import Housing_Market\n",
    "import Current_Condition\n",
    "import Future_Condition\n",
    "\n",
    "PreMonth=\"December\"\n",
    "Month=\"January\"\n",
    "PostMonth=\"February\"\n",
    "PPstMonth=\"March\"\n",
    "PPPtMonth=\"April\"\n",
    "Year=\"2023\"\n",
    "PreYear=\"2022\""
   ]
  },
  {
   "cell_type": "code",
   "execution_count": 3,
   "id": "6cb11283-1857-400d-a6b0-ff14c4b8644e",
   "metadata": {
    "tags": []
   },
   "outputs": [
    {
     "ename": "AttributeError",
     "evalue": "module 'Housing_Market' has no attribute 'HousingMarket'",
     "output_type": "error",
     "traceback": [
      "\u001b[1;31m---------------------------------------------------------------------------\u001b[0m",
      "\u001b[1;31mAttributeError\u001b[0m                            Traceback (most recent call last)",
      "\u001b[1;32mC:\\Temp\\ipykernel_24500\\1407763462.py\u001b[0m in \u001b[0;36m<module>\u001b[1;34m\u001b[0m\n\u001b[0;32m      6\u001b[0m \u001b[0mTP5\u001b[0m\u001b[1;33m=\u001b[0m\u001b[0mpd\u001b[0m\u001b[1;33m.\u001b[0m\u001b[0mread_csv\u001b[0m\u001b[1;33m(\u001b[0m\u001b[0mMonth\u001b[0m\u001b[1;33m+\u001b[0m\u001b[0mYear\u001b[0m\u001b[1;33m+\u001b[0m\u001b[1;34m\"TP5.csv\"\u001b[0m\u001b[1;33m)\u001b[0m\u001b[1;33m\u001b[0m\u001b[1;33m\u001b[0m\u001b[0m\n\u001b[0;32m      7\u001b[0m \u001b[1;33m\u001b[0m\u001b[0m\n\u001b[1;32m----> 8\u001b[1;33m \u001b[0mParagraphs\u001b[0m\u001b[1;33m=\u001b[0m\u001b[0mHousing_Market\u001b[0m\u001b[1;33m.\u001b[0m\u001b[0mHousingMarket\u001b[0m\u001b[1;33m(\u001b[0m\u001b[0mMonth\u001b[0m\u001b[1;33m,\u001b[0m \u001b[0mYear\u001b[0m\u001b[1;33m,\u001b[0m \u001b[0mTP1\u001b[0m\u001b[1;33m,\u001b[0m\u001b[0mTP2\u001b[0m\u001b[1;33m,\u001b[0m\u001b[0mTP3\u001b[0m\u001b[1;33m,\u001b[0m\u001b[0mTP4\u001b[0m\u001b[1;33m,\u001b[0m\u001b[0mTP5\u001b[0m\u001b[1;33m)\u001b[0m\u001b[1;33m\u001b[0m\u001b[1;33m\u001b[0m\u001b[0m\n\u001b[0m\u001b[0;32m      9\u001b[0m \u001b[0mP1\u001b[0m\u001b[1;33m=\u001b[0m\u001b[0mParagraphs\u001b[0m\u001b[1;33m.\u001b[0m\u001b[0mP1\u001b[0m\u001b[1;33m(\u001b[0m\u001b[1;33m)\u001b[0m\u001b[1;33m\u001b[0m\u001b[1;33m\u001b[0m\u001b[0m\n\u001b[0;32m     10\u001b[0m \u001b[0mP2\u001b[0m\u001b[1;33m=\u001b[0m\u001b[0mParagraphs\u001b[0m\u001b[1;33m.\u001b[0m\u001b[0mP2\u001b[0m\u001b[1;33m(\u001b[0m\u001b[1;33m)\u001b[0m\u001b[1;33m\u001b[0m\u001b[1;33m\u001b[0m\u001b[0m\n",
      "\u001b[1;31mAttributeError\u001b[0m: module 'Housing_Market' has no attribute 'HousingMarket'"
     ]
    }
   ],
   "source": [
    "os.chdir(r'C:\\\\Users\\\\Keitaro Ninomiya\\\\Box\\\\IAR_nino\\\\Results\\Talking_Points\\\\Housing_Market')\n",
    "TP1=pd.read_csv(Month+Year+\"TP1.csv\")\n",
    "TP2=pd.read_csv(Month+Year+\"TP2.csv\")\n",
    "TP3=pd.read_csv(Month+Year+\"TP3.csv\")\n",
    "TP4=pd.read_csv(Month+Year+\"TP4.csv\")\n",
    "TP5=pd.read_csv(Month+Year+\"TP5.csv\")\n",
    "\n",
    "Paragraphs=Housing_Market.HousingMarket(Month, Year, TP1,TP2,TP3,TP4,TP5)\n",
    "P1=Paragraphs.P1()\n",
    "P2=Paragraphs.P2()\n",
    "P3=Paragraphs.P3()\n",
    "P4=Paragraphs.P4()\n",
    "P5=Paragraphs.P5()\n",
    "Draft=[Paragraphs.P1(),Paragraphs.P2(),Paragraphs.P3(),Paragraphs.P4(),Paragraphs.P5()]\n",
    "os.chdir(r'C:\\\\Users\\\\Keitaro Ninomiya\\\\Box\\\\IAR_nino\\\\Report\\Current_Condition')\n",
    "textfile = open(\"Housing_Market\"+Month+Year+\".txt\", \"w\")\n",
    "for element in Draft:\n",
    "    textfile.write(element + \"\\n\")\n",
    "textfile.close()"
   ]
  },
  {
   "cell_type": "code",
   "execution_count": 4,
   "id": "ef144132-4755-4e4b-a603-899b45bbe093",
   "metadata": {},
   "outputs": [
    {
     "ename": "FileNotFoundError",
     "evalue": "[Errno 2] No such file or directory: 'January2023TP3.csv'",
     "output_type": "error",
     "traceback": [
      "\u001b[1;31m---------------------------------------------------------------------------\u001b[0m",
      "\u001b[1;31mFileNotFoundError\u001b[0m                         Traceback (most recent call last)",
      "\u001b[1;32mC:\\Temp\\ipykernel_24500\\1659352125.py\u001b[0m in \u001b[0;36m<module>\u001b[1;34m\u001b[0m\n\u001b[0;32m      2\u001b[0m \u001b[0mTP1\u001b[0m\u001b[1;33m=\u001b[0m\u001b[0mpd\u001b[0m\u001b[1;33m.\u001b[0m\u001b[0mread_csv\u001b[0m\u001b[1;33m(\u001b[0m\u001b[0mMonth\u001b[0m\u001b[1;33m+\u001b[0m\u001b[0mYear\u001b[0m\u001b[1;33m+\u001b[0m\u001b[1;34m\"TP1.csv\"\u001b[0m\u001b[1;33m)\u001b[0m\u001b[1;33m\u001b[0m\u001b[1;33m\u001b[0m\u001b[0m\n\u001b[0;32m      3\u001b[0m \u001b[0mTP2\u001b[0m\u001b[1;33m=\u001b[0m\u001b[0mpd\u001b[0m\u001b[1;33m.\u001b[0m\u001b[0mread_csv\u001b[0m\u001b[1;33m(\u001b[0m\u001b[0mMonth\u001b[0m\u001b[1;33m+\u001b[0m\u001b[0mYear\u001b[0m\u001b[1;33m+\u001b[0m\u001b[1;34m\"TP2.csv\"\u001b[0m\u001b[1;33m)\u001b[0m\u001b[1;33m\u001b[0m\u001b[1;33m\u001b[0m\u001b[0m\n\u001b[1;32m----> 4\u001b[1;33m \u001b[0mTP3\u001b[0m\u001b[1;33m=\u001b[0m\u001b[0mpd\u001b[0m\u001b[1;33m.\u001b[0m\u001b[0mread_csv\u001b[0m\u001b[1;33m(\u001b[0m\u001b[0mMonth\u001b[0m\u001b[1;33m+\u001b[0m\u001b[0mYear\u001b[0m\u001b[1;33m+\u001b[0m\u001b[1;34m\"TP3.csv\"\u001b[0m\u001b[1;33m)\u001b[0m\u001b[1;33m\u001b[0m\u001b[1;33m\u001b[0m\u001b[0m\n\u001b[0m\u001b[0;32m      5\u001b[0m \u001b[0mTP4\u001b[0m\u001b[1;33m=\u001b[0m\u001b[0mpd\u001b[0m\u001b[1;33m.\u001b[0m\u001b[0mread_csv\u001b[0m\u001b[1;33m(\u001b[0m\u001b[0mMonth\u001b[0m\u001b[1;33m+\u001b[0m\u001b[0mYear\u001b[0m\u001b[1;33m+\u001b[0m\u001b[1;34m\"TP4.csv\"\u001b[0m\u001b[1;33m)\u001b[0m\u001b[1;33m\u001b[0m\u001b[1;33m\u001b[0m\u001b[0m\n\u001b[0;32m      6\u001b[0m \u001b[0mTP5\u001b[0m\u001b[1;33m=\u001b[0m\u001b[0mpd\u001b[0m\u001b[1;33m.\u001b[0m\u001b[0mread_csv\u001b[0m\u001b[1;33m(\u001b[0m\u001b[0mMonth\u001b[0m\u001b[1;33m+\u001b[0m\u001b[0mYear\u001b[0m\u001b[1;33m+\u001b[0m\u001b[1;34m\"TP5.csv\"\u001b[0m\u001b[1;33m)\u001b[0m\u001b[1;33m\u001b[0m\u001b[1;33m\u001b[0m\u001b[0m\n",
      "\u001b[1;32mC:\\Users\\Public\\anaconda3\\lib\\site-packages\\pandas\\util\\_decorators.py\u001b[0m in \u001b[0;36mwrapper\u001b[1;34m(*args, **kwargs)\u001b[0m\n\u001b[0;32m    209\u001b[0m                 \u001b[1;32melse\u001b[0m\u001b[1;33m:\u001b[0m\u001b[1;33m\u001b[0m\u001b[1;33m\u001b[0m\u001b[0m\n\u001b[0;32m    210\u001b[0m                     \u001b[0mkwargs\u001b[0m\u001b[1;33m[\u001b[0m\u001b[0mnew_arg_name\u001b[0m\u001b[1;33m]\u001b[0m \u001b[1;33m=\u001b[0m \u001b[0mnew_arg_value\u001b[0m\u001b[1;33m\u001b[0m\u001b[1;33m\u001b[0m\u001b[0m\n\u001b[1;32m--> 211\u001b[1;33m             \u001b[1;32mreturn\u001b[0m \u001b[0mfunc\u001b[0m\u001b[1;33m(\u001b[0m\u001b[1;33m*\u001b[0m\u001b[0margs\u001b[0m\u001b[1;33m,\u001b[0m \u001b[1;33m**\u001b[0m\u001b[0mkwargs\u001b[0m\u001b[1;33m)\u001b[0m\u001b[1;33m\u001b[0m\u001b[1;33m\u001b[0m\u001b[0m\n\u001b[0m\u001b[0;32m    212\u001b[0m \u001b[1;33m\u001b[0m\u001b[0m\n\u001b[0;32m    213\u001b[0m         \u001b[1;32mreturn\u001b[0m \u001b[0mcast\u001b[0m\u001b[1;33m(\u001b[0m\u001b[0mF\u001b[0m\u001b[1;33m,\u001b[0m \u001b[0mwrapper\u001b[0m\u001b[1;33m)\u001b[0m\u001b[1;33m\u001b[0m\u001b[1;33m\u001b[0m\u001b[0m\n",
      "\u001b[1;32mC:\\Users\\Public\\anaconda3\\lib\\site-packages\\pandas\\util\\_decorators.py\u001b[0m in \u001b[0;36mwrapper\u001b[1;34m(*args, **kwargs)\u001b[0m\n\u001b[0;32m    329\u001b[0m                     \u001b[0mstacklevel\u001b[0m\u001b[1;33m=\u001b[0m\u001b[0mfind_stack_level\u001b[0m\u001b[1;33m(\u001b[0m\u001b[1;33m)\u001b[0m\u001b[1;33m,\u001b[0m\u001b[1;33m\u001b[0m\u001b[1;33m\u001b[0m\u001b[0m\n\u001b[0;32m    330\u001b[0m                 )\n\u001b[1;32m--> 331\u001b[1;33m             \u001b[1;32mreturn\u001b[0m \u001b[0mfunc\u001b[0m\u001b[1;33m(\u001b[0m\u001b[1;33m*\u001b[0m\u001b[0margs\u001b[0m\u001b[1;33m,\u001b[0m \u001b[1;33m**\u001b[0m\u001b[0mkwargs\u001b[0m\u001b[1;33m)\u001b[0m\u001b[1;33m\u001b[0m\u001b[1;33m\u001b[0m\u001b[0m\n\u001b[0m\u001b[0;32m    332\u001b[0m \u001b[1;33m\u001b[0m\u001b[0m\n\u001b[0;32m    333\u001b[0m         \u001b[1;31m# error: \"Callable[[VarArg(Any), KwArg(Any)], Any]\" has no\u001b[0m\u001b[1;33m\u001b[0m\u001b[1;33m\u001b[0m\u001b[0m\n",
      "\u001b[1;32mC:\\Users\\Public\\anaconda3\\lib\\site-packages\\pandas\\io\\parsers\\readers.py\u001b[0m in \u001b[0;36mread_csv\u001b[1;34m(filepath_or_buffer, sep, delimiter, header, names, index_col, usecols, squeeze, prefix, mangle_dupe_cols, dtype, engine, converters, true_values, false_values, skipinitialspace, skiprows, skipfooter, nrows, na_values, keep_default_na, na_filter, verbose, skip_blank_lines, parse_dates, infer_datetime_format, keep_date_col, date_parser, dayfirst, cache_dates, iterator, chunksize, compression, thousands, decimal, lineterminator, quotechar, quoting, doublequote, escapechar, comment, encoding, encoding_errors, dialect, error_bad_lines, warn_bad_lines, on_bad_lines, delim_whitespace, low_memory, memory_map, float_precision, storage_options)\u001b[0m\n\u001b[0;32m    948\u001b[0m     \u001b[0mkwds\u001b[0m\u001b[1;33m.\u001b[0m\u001b[0mupdate\u001b[0m\u001b[1;33m(\u001b[0m\u001b[0mkwds_defaults\u001b[0m\u001b[1;33m)\u001b[0m\u001b[1;33m\u001b[0m\u001b[1;33m\u001b[0m\u001b[0m\n\u001b[0;32m    949\u001b[0m \u001b[1;33m\u001b[0m\u001b[0m\n\u001b[1;32m--> 950\u001b[1;33m     \u001b[1;32mreturn\u001b[0m \u001b[0m_read\u001b[0m\u001b[1;33m(\u001b[0m\u001b[0mfilepath_or_buffer\u001b[0m\u001b[1;33m,\u001b[0m \u001b[0mkwds\u001b[0m\u001b[1;33m)\u001b[0m\u001b[1;33m\u001b[0m\u001b[1;33m\u001b[0m\u001b[0m\n\u001b[0m\u001b[0;32m    951\u001b[0m \u001b[1;33m\u001b[0m\u001b[0m\n\u001b[0;32m    952\u001b[0m \u001b[1;33m\u001b[0m\u001b[0m\n",
      "\u001b[1;32mC:\\Users\\Public\\anaconda3\\lib\\site-packages\\pandas\\io\\parsers\\readers.py\u001b[0m in \u001b[0;36m_read\u001b[1;34m(filepath_or_buffer, kwds)\u001b[0m\n\u001b[0;32m    603\u001b[0m \u001b[1;33m\u001b[0m\u001b[0m\n\u001b[0;32m    604\u001b[0m     \u001b[1;31m# Create the parser.\u001b[0m\u001b[1;33m\u001b[0m\u001b[1;33m\u001b[0m\u001b[0m\n\u001b[1;32m--> 605\u001b[1;33m     \u001b[0mparser\u001b[0m \u001b[1;33m=\u001b[0m \u001b[0mTextFileReader\u001b[0m\u001b[1;33m(\u001b[0m\u001b[0mfilepath_or_buffer\u001b[0m\u001b[1;33m,\u001b[0m \u001b[1;33m**\u001b[0m\u001b[0mkwds\u001b[0m\u001b[1;33m)\u001b[0m\u001b[1;33m\u001b[0m\u001b[1;33m\u001b[0m\u001b[0m\n\u001b[0m\u001b[0;32m    606\u001b[0m \u001b[1;33m\u001b[0m\u001b[0m\n\u001b[0;32m    607\u001b[0m     \u001b[1;32mif\u001b[0m \u001b[0mchunksize\u001b[0m \u001b[1;32mor\u001b[0m \u001b[0miterator\u001b[0m\u001b[1;33m:\u001b[0m\u001b[1;33m\u001b[0m\u001b[1;33m\u001b[0m\u001b[0m\n",
      "\u001b[1;32mC:\\Users\\Public\\anaconda3\\lib\\site-packages\\pandas\\io\\parsers\\readers.py\u001b[0m in \u001b[0;36m__init__\u001b[1;34m(self, f, engine, **kwds)\u001b[0m\n\u001b[0;32m   1440\u001b[0m \u001b[1;33m\u001b[0m\u001b[0m\n\u001b[0;32m   1441\u001b[0m         \u001b[0mself\u001b[0m\u001b[1;33m.\u001b[0m\u001b[0mhandles\u001b[0m\u001b[1;33m:\u001b[0m \u001b[0mIOHandles\u001b[0m \u001b[1;33m|\u001b[0m \u001b[1;32mNone\u001b[0m \u001b[1;33m=\u001b[0m \u001b[1;32mNone\u001b[0m\u001b[1;33m\u001b[0m\u001b[1;33m\u001b[0m\u001b[0m\n\u001b[1;32m-> 1442\u001b[1;33m         \u001b[0mself\u001b[0m\u001b[1;33m.\u001b[0m\u001b[0m_engine\u001b[0m \u001b[1;33m=\u001b[0m \u001b[0mself\u001b[0m\u001b[1;33m.\u001b[0m\u001b[0m_make_engine\u001b[0m\u001b[1;33m(\u001b[0m\u001b[0mf\u001b[0m\u001b[1;33m,\u001b[0m \u001b[0mself\u001b[0m\u001b[1;33m.\u001b[0m\u001b[0mengine\u001b[0m\u001b[1;33m)\u001b[0m\u001b[1;33m\u001b[0m\u001b[1;33m\u001b[0m\u001b[0m\n\u001b[0m\u001b[0;32m   1443\u001b[0m \u001b[1;33m\u001b[0m\u001b[0m\n\u001b[0;32m   1444\u001b[0m     \u001b[1;32mdef\u001b[0m \u001b[0mclose\u001b[0m\u001b[1;33m(\u001b[0m\u001b[0mself\u001b[0m\u001b[1;33m)\u001b[0m \u001b[1;33m->\u001b[0m \u001b[1;32mNone\u001b[0m\u001b[1;33m:\u001b[0m\u001b[1;33m\u001b[0m\u001b[1;33m\u001b[0m\u001b[0m\n",
      "\u001b[1;32mC:\\Users\\Public\\anaconda3\\lib\\site-packages\\pandas\\io\\parsers\\readers.py\u001b[0m in \u001b[0;36m_make_engine\u001b[1;34m(self, f, engine)\u001b[0m\n\u001b[0;32m   1733\u001b[0m                 \u001b[1;32mif\u001b[0m \u001b[1;34m\"b\"\u001b[0m \u001b[1;32mnot\u001b[0m \u001b[1;32min\u001b[0m \u001b[0mmode\u001b[0m\u001b[1;33m:\u001b[0m\u001b[1;33m\u001b[0m\u001b[1;33m\u001b[0m\u001b[0m\n\u001b[0;32m   1734\u001b[0m                     \u001b[0mmode\u001b[0m \u001b[1;33m+=\u001b[0m \u001b[1;34m\"b\"\u001b[0m\u001b[1;33m\u001b[0m\u001b[1;33m\u001b[0m\u001b[0m\n\u001b[1;32m-> 1735\u001b[1;33m             self.handles = get_handle(\n\u001b[0m\u001b[0;32m   1736\u001b[0m                 \u001b[0mf\u001b[0m\u001b[1;33m,\u001b[0m\u001b[1;33m\u001b[0m\u001b[1;33m\u001b[0m\u001b[0m\n\u001b[0;32m   1737\u001b[0m                 \u001b[0mmode\u001b[0m\u001b[1;33m,\u001b[0m\u001b[1;33m\u001b[0m\u001b[1;33m\u001b[0m\u001b[0m\n",
      "\u001b[1;32mC:\\Users\\Public\\anaconda3\\lib\\site-packages\\pandas\\io\\common.py\u001b[0m in \u001b[0;36mget_handle\u001b[1;34m(path_or_buf, mode, encoding, compression, memory_map, is_text, errors, storage_options)\u001b[0m\n\u001b[0;32m    854\u001b[0m         \u001b[1;32mif\u001b[0m \u001b[0mioargs\u001b[0m\u001b[1;33m.\u001b[0m\u001b[0mencoding\u001b[0m \u001b[1;32mand\u001b[0m \u001b[1;34m\"b\"\u001b[0m \u001b[1;32mnot\u001b[0m \u001b[1;32min\u001b[0m \u001b[0mioargs\u001b[0m\u001b[1;33m.\u001b[0m\u001b[0mmode\u001b[0m\u001b[1;33m:\u001b[0m\u001b[1;33m\u001b[0m\u001b[1;33m\u001b[0m\u001b[0m\n\u001b[0;32m    855\u001b[0m             \u001b[1;31m# Encoding\u001b[0m\u001b[1;33m\u001b[0m\u001b[1;33m\u001b[0m\u001b[0m\n\u001b[1;32m--> 856\u001b[1;33m             handle = open(\n\u001b[0m\u001b[0;32m    857\u001b[0m                 \u001b[0mhandle\u001b[0m\u001b[1;33m,\u001b[0m\u001b[1;33m\u001b[0m\u001b[1;33m\u001b[0m\u001b[0m\n\u001b[0;32m    858\u001b[0m                 \u001b[0mioargs\u001b[0m\u001b[1;33m.\u001b[0m\u001b[0mmode\u001b[0m\u001b[1;33m,\u001b[0m\u001b[1;33m\u001b[0m\u001b[1;33m\u001b[0m\u001b[0m\n",
      "\u001b[1;31mFileNotFoundError\u001b[0m: [Errno 2] No such file or directory: 'January2023TP3.csv'"
     ]
    }
   ],
   "source": [
    "os.chdir(r'C:\\\\Users\\\\Keitaro Ninomiya\\\\Box\\\\IAR_nino\\\\Results\\Talking_Points\\\\Current_Condition')\n",
    "TP1=pd.read_csv(Month+Year+\"TP1.csv\")\n",
    "TP2=pd.read_csv(Month+Year+\"TP2.csv\")\n",
    "TP3=pd.read_csv(Month+Year+\"TP3.csv\")\n",
    "TP4=pd.read_csv(Month+Year+\"TP4.csv\")\n",
    "TP5=pd.read_csv(Month+Year+\"TP5.csv\")"
   ]
  },
  {
   "cell_type": "code",
   "execution_count": null,
   "id": "ecac85b8-cd6c-4963-8681-888b3a705dc1",
   "metadata": {},
   "outputs": [],
   "source": [
    "os.chdir(r'C:\\\\Users\\\\Keitaro Ninomiya\\\\Box\\\\IAR_nino\\\\Results\\Talking_Points\\\\Future_Condition')\n",
    "TP1=pd.read_csv(Month+Year+\"TP1.csv\")\n",
    "TP2=pd.read_csv(Month+Year+\"TP2.csv\")\n",
    "TP3=pd.read_csv(Month+Year+\"TP3.csv\")\n",
    "TP4=pd.read_csv(Month+Year+\"TP4.csv\")\n",
    "TP5=pd.read_csv(Month+Year+\"TP5.csv\")"
   ]
  },
  {
   "cell_type": "code",
   "execution_count": 78,
   "id": "1487942a-b1af-480d-89c0-e5b35cd528b8",
   "metadata": {},
   "outputs": [
    {
     "data": {
      "text/plain": [
       "'The sales forecast for January, February, and March suggests a decrease on a yearly and monthly basis for both Illinois and the Chicago PMSA. Annually for Illinois, the three-month average forecasts point to a decrease in the range of -0.26557325599013 to -0.359304993398411%; the comparative figures for the Chicago PMSA are a decrease in the range of -0.296495110175786% to -0.359304993398411%. On a monthly basis, the three-month average sales are forecast to decrease in the range of -0.300582968765897% to -40.667107538915495% for Illinois and decrease in the range of -0.328894845721279% to -0.444975379505259% for the Chicago PMSA.'"
      ]
     },
     "execution_count": 78,
     "metadata": {},
     "output_type": "execute_result"
    }
   ],
   "source": [
    "Paragraphs=HousingMarket(Month, Year, TP1,TP2,TP3,TP4,TP5)\n",
    "P3=Paragraphs.P3()\n",
    "P3"
   ]
  }
 ],
 "metadata": {
  "kernelspec": {
   "display_name": "Python 3 (ipykernel)",
   "language": "python",
   "name": "python3"
  },
  "language_info": {
   "codemirror_mode": {
    "name": "ipython",
    "version": 3
   },
   "file_extension": ".py",
   "mimetype": "text/x-python",
   "name": "python",
   "nbconvert_exporter": "python",
   "pygments_lexer": "ipython3",
   "version": "3.9.13"
  }
 },
 "nbformat": 4,
 "nbformat_minor": 5
}
